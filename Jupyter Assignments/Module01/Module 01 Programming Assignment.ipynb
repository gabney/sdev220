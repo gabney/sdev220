{
 "cells": [
  {
   "cell_type": "markdown",
   "id": "4756f801-2e84-4f77-9981-1d42c656d10c",
   "metadata": {},
   "source": [
    "Module 01 Programming Assignment - Numbers and Types\n",
    "\n",
    "Gabriel Abney\n",
    "\n",
    "SDEV 220"
   ]
  },
  {
   "cell_type": "code",
   "execution_count": null,
   "id": "1d8d7723-f555-422d-8224-1e836631affb",
   "metadata": {
    "panel-layout": {
     "height": 27.140625,
     "visible": true,
     "width": 100
    }
   },
   "outputs": [],
   "source": [
    "\"\"\"3.1 How many seconds are in an hour? Use the interactive \n",
    "interpreter as a calculator and multiply the number of seconds \n",
    "in a minute (60) by the number of minutes in an hour (also 60).\"\"\"\n",
    "\n",
    "60 * 60"
   ]
  },
  {
   "cell_type": "code",
   "execution_count": null,
   "id": "4b1f636a-8540-4b1e-8a07-49580e59339a",
   "metadata": {},
   "outputs": [],
   "source": [
    "\"\"\"3.2 Assign the result from the previous task (seconds in an hour) \n",
    "to a variable called seconds_per_hour.\"\"\"\n",
    "\n",
    "seconds_per_hour = 60 * 60"
   ]
  },
  {
   "cell_type": "code",
   "execution_count": null,
   "id": "d1bda1a1-4b56-48fb-a462-5f477554295b",
   "metadata": {
    "panel-layout": {
     "height": 27.140625,
     "visible": true,
     "width": 100
    }
   },
   "outputs": [],
   "source": [
    "\"\"\"3.3 How many seconds are in a day? Use your seconds_per_hour variable.\"\"\"\n",
    "\n",
    "seconds_per_hour * 24"
   ]
  },
  {
   "cell_type": "code",
   "execution_count": null,
   "id": "2aad1df7-7826-4e16-80d4-98ddf41a38b8",
   "metadata": {},
   "outputs": [],
   "source": [
    "\"\"\"3.4 Calculate seconds per day again, but this time \n",
    "save the result in a variable called seconds_per_day.\"\"\"\n",
    "\n",
    "seconds_per_day = seconds_per_hour * 24"
   ]
  },
  {
   "cell_type": "code",
   "execution_count": null,
   "id": "1fdeefcd-fa3d-4aac-82bb-13629b7d4a63",
   "metadata": {
    "panel-layout": {
     "height": 27.140625,
     "visible": true,
     "width": 100
    }
   },
   "outputs": [],
   "source": [
    "\"\"\"3.5 Divide seconds_per_day by seconds_per_hour. \n",
    "Use floating-point (/) division.\"\"\"\n",
    "\n",
    "seconds_per_day / seconds_per_hour"
   ]
  },
  {
   "cell_type": "code",
   "execution_count": null,
   "id": "df5f649c-1aaa-4b41-9867-58812061ac1f",
   "metadata": {
    "panel-layout": {
     "height": 27.140625,
     "visible": true,
     "width": 100
    }
   },
   "outputs": [],
   "source": [
    "\"\"\"3.6 Divide seconds_per_day by seconds_per_hour, \n",
    "using integer (//) division. Did this number agree \n",
    "with the floating-point value from the previous question, \n",
    "aside from the final .0?\"\"\"\n",
    "\n",
    "seconds_per_day // seconds_per_hour\n",
    "#this number should be equivalent to the previous question's result, but an integer data type"
   ]
  }
 ],
 "metadata": {
  "kernelspec": {
   "display_name": "Python [conda env:base] *",
   "language": "python",
   "name": "conda-base-py"
  },
  "language_info": {
   "codemirror_mode": {
    "name": "ipython",
    "version": 3
   },
   "file_extension": ".py",
   "mimetype": "text/x-python",
   "name": "python",
   "nbconvert_exporter": "python",
   "pygments_lexer": "ipython3",
   "version": "3.13.5"
  },
  "panel-cell-order": [
   "ae16dd8d-50ce-4bad-a300-91153a40d730",
   "d1bda1a1-4b56-48fb-a462-5f477554295b",
   "1fdeefcd-fa3d-4aac-82bb-13629b7d4a63",
   "df5f649c-1aaa-4b41-9867-58812061ac1f"
  ]
 },
 "nbformat": 4,
 "nbformat_minor": 5
}
